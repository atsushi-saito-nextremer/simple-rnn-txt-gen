{
 "cells": [
  {
   "cell_type": "code",
   "execution_count": 4,
   "metadata": {
    "collapsed": false
   },
   "outputs": [],
   "source": [
    "import sys\n",
    "import re\n",
    "import numpy as np\n",
    "import json\n",
    "import pickle\n",
    "from string import ascii_letters\n",
    "\n",
    "from keras.models import Sequential, model_from_json\n",
    "from keras.layers import Dense, Activation, Dropout\n",
    "from keras.layers import LSTM\n",
    "\n",
    "from ivanatrumpalot import clean_text, predict, sample\n",
    "import os\n",
    "import subprocess as subp"
   ]
  },
  {
   "cell_type": "code",
   "execution_count": 7,
   "metadata": {
    "collapsed": false
   },
   "outputs": [],
   "source": [
    "\n",
    "curr_dir=subp.check_output([\"pwd\"]).replace(\"\\n\",\"\")\n",
    "# Code directory\n",
    "os.chdir(curr_dir)\n",
    "\n",
    "# Read and clean corpus\n",
    "text = clean_text(open(\"../data/trump_corpus\").read())"
   ]
  },
  {
   "cell_type": "code",
   "execution_count": null,
   "metadata": {
    "collapsed": false
   },
   "outputs": [],
   "source": []
  },
  {
   "cell_type": "code",
   "execution_count": 9,
   "metadata": {
    "collapsed": false
   },
   "outputs": [
    {
     "name": "stdout",
     "output_type": "stream",
     "text": [
      "Corpus : 249546 characters, approximately 3806 sentences.\n",
      "Size of the alphabet : 75 characters.\n"
     ]
    }
   ],
   "source": [
    "\n",
    "# Corpus length\n",
    "print(\"Corpus : {} characters, approximately {} sentences.\".format(len(text), len(text.split(\".\"))))\n",
    "\n",
    "# Generate a dictionaries mapping from characters in our alphabet to an index, and the reverse\n",
    "alphabet = set(text).union(set(ascii_letters)).union(set(\"1234567890\"))\n",
    "alphabet_size = len(alphabet)\n",
    "alphabet_indices = dict((c, i) for i, c in enumerate(alphabet))\n",
    "indices_alphabet = dict((i, c) for i, c in enumerate(alphabet))\n",
    "print(\"Size of the alphabet : {} characters.\".format(alphabet_size))\n"
   ]
  },
  {
   "cell_type": "code",
   "execution_count": null,
   "metadata": {
    "collapsed": false
   },
   "outputs": [],
   "source": []
  },
  {
   "cell_type": "code",
   "execution_count": null,
   "metadata": {
    "collapsed": true
   },
   "outputs": [],
   "source": []
  },
  {
   "cell_type": "code",
   "execution_count": 14,
   "metadata": {
    "collapsed": false
   },
   "outputs": [
    {
     "name": "stdout",
     "output_type": "stream",
     "text": [
      "Number of sequences generated from the corpus : 83166.\n"
     ]
    }
   ],
   "source": [
    "\n",
    "# Generate sequences of characters that the RNN will use to predict the next character.\n",
    "primer_length = 50\n",
    "step = 3\n",
    "sentences = []\n",
    "next_character = []\n",
    "for i in range(0, len(text) - primer_length, step):\n",
    "    sentences.append(text[i : i + primer_length])\n",
    "    next_character.append(text[i + primer_length])\n",
    "print(\"Number of sequences generated from the corpus : {}.\".format(len(sentences)))\n"
   ]
  },
  {
   "cell_type": "code",
   "execution_count": null,
   "metadata": {
    "collapsed": false
   },
   "outputs": [],
   "source": []
  },
  {
   "cell_type": "code",
   "execution_count": 25,
   "metadata": {
    "collapsed": false
   },
   "outputs": [
    {
     "name": "stdout",
     "output_type": "stream",
     "text": [
      "One-Hot Vectorising.\n"
     ]
    }
   ],
   "source": [
    "# Vectorise the text sequences : go from N sentences of length primer_length to\n",
    "# a binary array of size (N, primer_length, alphabet_size). Do the same for the\n",
    "# next_character array.\n",
    "print(\"One-Hot Vectorising.\")\n",
    "X = np.zeros((len(sentences), primer_length, alphabet_size), dtype=np.bool)\n",
    "y = np.zeros((len(sentences), alphabet_size), dtype=np.bool)\n",
    "for i, sentence in enumerate(sentences):\n",
    "    for t, char in enumerate(sentence):\n",
    "        X[i, t, alphabet_indices[char]] = 1\n",
    "    y[i, alphabet_indices[next_character[i]]] = 1"
   ]
  },
  {
   "cell_type": "code",
   "execution_count": null,
   "metadata": {
    "collapsed": true
   },
   "outputs": [],
   "source": []
  },
  {
   "cell_type": "code",
   "execution_count": null,
   "metadata": {
    "collapsed": true
   },
   "outputs": [],
   "source": [
    "\n",
    "# Pickle the necessary objects for future prediction\n",
    "required_objects = { \"alphabet\" : alphabet,\n",
    "                     \"alphabet_indices\" : alphabet_indices,\n",
    "                     \"indices_alphabet\" : indices_alphabet,\n",
    "                     \"primer_length\" : primer_length\n",
    "                   }\n",
    "with open(\"required_objects.pickle\", \"wb\") as f:\n",
    "    pickle.dump(required_objects, f)"
   ]
  },
  {
   "cell_type": "code",
   "execution_count": null,
   "metadata": {
    "collapsed": true
   },
   "outputs": [],
   "source": []
  },
  {
   "cell_type": "code",
   "execution_count": null,
   "metadata": {
    "collapsed": true
   },
   "outputs": [],
   "source": []
  },
  {
   "cell_type": "code",
   "execution_count": null,
   "metadata": {
    "collapsed": true
   },
   "outputs": [],
   "source": []
  },
  {
   "cell_type": "code",
   "execution_count": null,
   "metadata": {
    "collapsed": true
   },
   "outputs": [],
   "source": []
  }
 ],
 "metadata": {
  "kernelspec": {
   "display_name": "Python 2",
   "language": "python",
   "name": "python2"
  },
  "language_info": {
   "codemirror_mode": {
    "name": "ipython",
    "version": 2
   },
   "file_extension": ".py",
   "mimetype": "text/x-python",
   "name": "python",
   "nbconvert_exporter": "python",
   "pygments_lexer": "ipython2",
   "version": "2.7.6"
  }
 },
 "nbformat": 4,
 "nbformat_minor": 0
}
